{
 "cells": [
  {
   "cell_type": "code",
   "execution_count": 4,
   "metadata": {},
   "outputs": [],
   "source": [
    "import numpy as np\n",
    "from matplotlib import pyplot as plt\n",
    "from time import time"
   ]
  },
  {
   "cell_type": "code",
   "execution_count": 5,
   "metadata": {},
   "outputs": [],
   "source": [
    "f_a =lambda t:((204165.5)/(330-2*float(t)))+(10400/(float(t)-20))\n",
    "dx = lambda x, delta: (f_a(x+delta)-f_a(x))/delta"
   ]
  },
  {
   "cell_type": "code",
   "execution_count": 6,
   "metadata": {},
   "outputs": [
    {
     "name": "stdout",
     "output_type": "stream",
     "text": [
      "Tiempo transcurrido: 0.000000 ms.\n",
      "x: 55.083585\n",
      "fx: 1225.165637\n",
      "f'x: 0.000068\n",
      "iteraciones: 18\n"
     ]
    }
   ],
   "source": [
    "delta = 0.0001\n",
    "epsilon = delta\n",
    "x1 = 90\n",
    "x2 =40\n",
    "s = []\n",
    "d = []\n",
    "j = []\n",
    "start_time = time()\n",
    "for i in range(1,100):\n",
    "    alpha = x2 - ((dx(x2,delta)*(x2-x1)))/(dx(x2,delta)-dx(x1,delta))\n",
    "    if dx(alpha,delta)*dx(x1,delta)<0:\n",
    "        x2=alpha\n",
    "    else:\n",
    "        x1 = alpha\n",
    "    if abs(dx(alpha,delta))<epsilon:\n",
    "        break\n",
    "\n",
    "elapsed_time = time() - start_time\n",
    "elapsed_time = elapsed_time*1000\n",
    "print(\"Tiempo transcurrido: %f ms.\" % elapsed_time )\n",
    "print(\"x: %f\" % alpha)\n",
    "print(\"fx: %f\" % f_a(alpha))\n",
    "print(\"f'x: %f\" % dx(alpha,delta))\n",
    "print(\"iteraciones: %d\" % i)"
   ]
  },
  {
   "cell_type": "code",
   "execution_count": null,
   "metadata": {},
   "outputs": [],
   "source": []
  }
 ],
 "metadata": {
  "kernelspec": {
   "display_name": "Python 3",
   "language": "python",
   "name": "python3"
  },
  "language_info": {
   "codemirror_mode": {
    "name": "ipython",
    "version": 3
   },
   "file_extension": ".py",
   "mimetype": "text/x-python",
   "name": "python",
   "nbconvert_exporter": "python",
   "pygments_lexer": "ipython3",
   "version": "3.7.4"
  }
 },
 "nbformat": 4,
 "nbformat_minor": 4
}
