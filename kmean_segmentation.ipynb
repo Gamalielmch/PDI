{
 "cells": [
  {
   "cell_type": "code",
   "execution_count": 156,
   "metadata": {},
   "outputs": [],
   "source": [
    "import numpy as np\n",
    "import time\n",
    "import matplotlib.pyplot as plt\n",
    "from PIL import Image\n",
    "from rgb2gray import rgbtogray\n",
    "%matplotlib inline"
   ]
  },
  {
   "cell_type": "code",
   "execution_count": 162,
   "metadata": {},
   "outputs": [
    {
     "data": {
      "image/png": "[encoded data removed]",
      "text/plain": [
       "<Figure size 432x288 with 1 Axes>"
      ]
     },
     "metadata": {
      "needs_background": "light"
     },
     "output_type": "display_data"
    }
   ],
   "source": [
    "#path= \"C:/Users/Gama/Documents/Github/PDI/TalentJ1/\"  +str(i)+\".jpg\"\n",
    "I=Image.open('C:/Users/Gama/Documents/Github/PDI/TalentJ1/350.jpg')\n",
    "si=I.size\n",
    "I=I.resize((int(si[0]*0.25),int(si[1]*0.25)))\n",
    "I=np.array(I)\n",
    "I=I[:,:,1]\n",
    "I=I.astype(int)\n",
    "plt.imshow(I, cmap='gray',vmin=0,vmax=255);\n",
    "plt.axis('off');\n",
    "plt.show;"
   ]
  },
  {
   "cell_type": "code",
   "execution_count": 163,
   "metadata": {},
   "outputs": [
    {
     "data": {
      "image/png": "[encoded data removed]",
      "text/plain": [
       "<Figure size 432x288 with 1 Axes>"
      ]
     },
     "metadata": {
      "needs_background": "light"
     },
     "output_type": "display_data"
    }
   ],
   "source": [
    "pi, bins,=np.histogram(I.ravel(), np.arange(256))\n",
    "pi=pi/np.sum(pi)\n",
    "bins = np.linspace(0,255,255)\n",
    "plt.plot(bins,pi)\n",
    "plt.show()"
   ]
  },
  {
   "cell_type": "code",
   "execution_count": 164,
   "metadata": {},
   "outputs": [
    {
     "name": "stdout",
     "output_type": "stream",
     "text": [
      "[ 60  90 120]\n"
     ]
    }
   ],
   "source": [
    "pi, bins,=np.histogram(I.ravel(), np.arange(256))\n",
    "pi=pi/np.sum(pi)\n",
    "bins = np.linspace(0,255,255)\n",
    "k=np.array([60,90,120]) #incializar\n",
    "col=plt.cm.get_cmap('hsv', len(k))\n",
    "print(k)\n",
    "It=I.flatten()\n",
    "distancia=np.zeros([len(It),len(k)])\n",
    "for ite in range(10):\n",
    "#####Assignament\n",
    "    for i in range(len(It)):\n",
    "        for j in range(len(k)):\n",
    "            distancia[i,j]=np.abs(It[i]-k[j])\n",
    "    minimo=np.argmin(distancia,axis=1)\n",
    "\n",
    "#####Update\n",
    "    for j in range(len(k)): \n",
    "        k[j]=np.mean(It[minimo==j])\n",
    "    #    plt.axvline( k[j], 0, 1, c=col(j))\n",
    "    #plt.plot(bins,pi)\n",
    "    #plt.show()\n",
    "    \n",
    "   # print(k)"
   ]
  },
  {
   "cell_type": "code",
   "execution_count": 165,
   "metadata": {},
   "outputs": [
    {
     "data": {
      "image/png": "[encoded data removed]",
      "text/plain": [
       "<Figure size 720x720 with 1 Axes>"
      ]
     },
     "metadata": {
      "needs_background": "light"
     },
     "output_type": "display_data"
    }
   ],
   "source": [
    "#Results segmentation\n",
    "si=I.shape\n",
    "S=np.ones(si)*k[0]\n",
    "for x in range(si[0]):\n",
    "    for y in range(si[1]):\n",
    "        for j in range(1,len(k)):\n",
    "            if I[x,y]>=k[j]:\n",
    "                S[x,y]=k[j]\n",
    "S=S.astype(int)\n",
    "fig2=plt.figure(figsize = (10,10))\n",
    "plt.imshow(S, cmap='gray',vmin=0,vmax=255);\n",
    "plt.axis('off');    "
   ]
  },
  {
   "cell_type": "code",
   "execution_count": 166,
   "metadata": {},
   "outputs": [
    {
     "data": {
      "image/png": "[encoded data removed]",
      "text/plain": [
       "<Figure size 720x720 with 1 Axes>"
      ]
     },
     "metadata": {
      "needs_background": "light"
     },
     "output_type": "display_data"
    }
   ],
   "source": [
    "#Results segmentation\n",
    "si=I.shape\n",
    "S=np.zeros(si)\n",
    "u=len(k)-1\n",
    "for x in range(si[0]):\n",
    "    for y in range(si[1]):\n",
    "            if I[x,y]>=k[u]:\n",
    "                S[x,y]=255\n",
    "S=S.astype(int)\n",
    "fig2=plt.figure(figsize = (10,10))\n",
    "plt.imshow(S, cmap='gray',vmin=0,vmax=255);\n",
    "plt.axis('off'); "
   ]
  },
  {
   "cell_type": "code",
   "execution_count": null,
   "metadata": {},
   "outputs": [],
   "source": []
  },
  {
   "cell_type": "code",
   "execution_count": null,
   "metadata": {},
   "outputs": [],
   "source": []
  }
 ],
 "metadata": {
  "kernelspec": {
   "display_name": "Python 3",
   "language": "python",
   "name": "python3"
  },
  "language_info": {
   "codemirror_mode": {
    "name": "ipython",
    "version": 3
   },
   "file_extension": ".py",
   "mimetype": "text/x-python",
   "name": "python",
   "nbconvert_exporter": "python",
   "pygments_lexer": "ipython3",
   "version": "3.7.4"
  }
 },
 "nbformat": 4,
 "nbformat_minor": 4
}
