{
 "cells": [
  {
   "cell_type": "code",
   "execution_count": 48,
   "metadata": {},
   "outputs": [],
   "source": [
    "import numpy as np\n",
    "import matplotlib.pyplot as plt\n",
    "from PIL import Image"
   ]
  },
  {
   "cell_type": "code",
   "execution_count": 49,
   "metadata": {},
   "outputs": [],
   "source": [
    "def rgb2gray(rgb):\n",
    "    r, g, b = rgb[:,:,0], rgb[:,:,1], rgb[:,:,2]\n",
    "    gray = np.round (0.2989 * r + 0.5870 * g + 0.1140 * b)\n",
    "    return gray"
   ]
  },
  {
   "cell_type": "code",
   "execution_count": 50,
   "metadata": {},
   "outputs": [],
   "source": [
    "I=Image.open('subject05_80.jpg')\n",
    "I=np.array(I)\n",
    "#im2=rgb2gray(im2)\n",
    "I=I.astype(int)\n",
    "#fig1=plt.figure(figsize = (3,3))\n",
    "#plt.imshow(I, cmap='gray',vmin=0,vmax=255);\n",
    "#plt.axis('off');"
   ]
  },
  {
   "cell_type": "code",
   "execution_count": 51,
   "metadata": {},
   "outputs": [
    {
     "name": "stdout",
     "output_type": "stream",
     "text": [
      "[ 41. 100.]\n"
     ]
    }
   ],
   "source": [
    "##### Otsu multithreshold method\n",
    "mini=np.amin(I)\n",
    "maxi=np.amax(I)-1\n",
    "pi, bins,=np.histogram(I.ravel(), np.arange(256))\n",
    "pi=pi/np.sum(pi)\n",
    "bins = np.linspace(0,255,255)\n",
    "miu_t=np.sum(bins*pi) \n",
    "t0=1\n",
    "t1=2\n",
    "w=np.zeros((2))\n",
    "miu_k=np.zeros((2))\n",
    "sgmt=0\n",
    "opt_t=np.zeros((2))\n",
    "for t0 in range(mini,maxi-1):\n",
    "    for t1 in range(t0+1,maxi):\n",
    "        w[0]=np.sum(pi[mini:t0])+0.000001\n",
    "        w[1]=np.sum(pi[t1:maxi])+0.000001\n",
    "        miu_k[0]=np.sum(bins[mini:t0]*pi[mini:t0])/w[0]\n",
    "        miu_k[1]=np.sum(bins[t1:maxi]*pi[t1:maxi])/w[1]\n",
    "        sgm= np.sum(w*(miu_k-miu_t)**2) \n",
    "        if sgm>sgmt:\n",
    "            sgmt=sgm\n",
    "            opt_t[0]=t0\n",
    "            opt_t[1]=t1\n",
    "print(opt_t)\n"
   ]
  },
  {
   "cell_type": "code",
   "execution_count": 54,
   "metadata": {},
   "outputs": [
    {
     "name": "stdout",
     "output_type": "stream",
     "text": [
      "(181, 217)\n"
     ]
    },
    {
     "data": {
      "image/png": "[encoded data removed]",
      "text/plain": [
       "<Figure size 576x576 with 1 Axes>"
      ]
     },
     "metadata": {
      "needs_background": "light"
     },
     "output_type": "display_data"
    }
   ],
   "source": [
    "##### Otsu method\n",
    "si=I.shape\n",
    "S=np.zeros(si)\n",
    "print(S.shape)\n",
    "for x in range(si[0]):\n",
    "    for y in range(si[1]):\n",
    "        if I[x,y]<=opt_t[0]:\n",
    "            S[x,y]=0\n",
    "        elif (I[x,y]>opt_t[0]) & (I[x,y]<=opt_t[1]) :\n",
    "            S[x,y]=128\n",
    "        else:\n",
    "            S[x,y]=255\n",
    "S=S.astype(int)\n",
    "fig2=plt.figure(figsize = (8,8))\n",
    "plt.imshow(S, cmap='gray',vmin=0,vmax=255);\n",
    "plt.axis('off');   "
   ]
  },
  {
   "cell_type": "code",
   "execution_count": 56,
   "metadata": {},
   "outputs": [
    {
     "data": {
      "image/png": "[encoded data removed]",
      "text/plain": [
       "<Figure size 432x288 with 1 Axes>"
      ]
     },
     "metadata": {
      "needs_background": "light"
     },
     "output_type": "display_data"
    }
   ],
   "source": [
    "plt.plot(bins,pi)\n",
    "plt.axvline(opt_t[0],0,1,label='pyplot vertical line', c = 'r')\n",
    "plt.axvline(opt_t[1],0,1,label='pyplot vertical line', c = 'g')\n",
    "plt.show()\n"
   ]
  },
  {
   "cell_type": "code",
   "execution_count": null,
   "metadata": {},
   "outputs": [],
   "source": []
  }
 ],
 "metadata": {
  "kernelspec": {
   "display_name": "Python 3",
   "language": "python",
   "name": "python3"
  },
  "language_info": {
   "codemirror_mode": {
    "name": "ipython",
    "version": 3
   },
   "file_extension": ".py",
   "mimetype": "text/x-python",
   "name": "python",
   "nbconvert_exporter": "python",
   "pygments_lexer": "ipython3",
   "version": "3.7.4"
  }
 },
 "nbformat": 4,
 "nbformat_minor": 4
}
