{
 "cells": [
  {
   "cell_type": "code",
   "execution_count": 28,
   "metadata": {},
   "outputs": [],
   "source": [
    "from matplotlib import pyplot as plt\n",
    "import numpy as np \n",
    "from time import time"
   ]
  },
  {
   "cell_type": "code",
   "execution_count": 29,
   "metadata": {},
   "outputs": [],
   "source": [
    "f_a =lambda t: ((204165.5)/(330-2*float(t)))+(10400/(float(t)-20))\n",
    "dx = lambda x, delta: (f_a(x+delta)-f_a(x))/delta        "
   ]
  },
  {
   "cell_type": "code",
   "execution_count": 32,
   "metadata": {},
   "outputs": [
    {
     "name": "stdout",
     "output_type": "stream",
     "text": [
      "40.0 40.0001000002\n",
      "Tiempo transcurrido: 535.715342 ms.\n",
      "x: 55.083530\n",
      "fx: 1225.165637\n",
      "f'x: 0.000033\n",
      "iteraciones: 500000\n"
     ]
    }
   ],
   "source": [
    "t = np.linspace(40,90,500000)\n",
    "print(t[0],t[1])\n",
    "f2 = np.vectorize(f_a)\n",
    "#plt.plot(t,f2(t))\n",
    "#plt.show()\n",
    "minU = 2**99\n",
    "minT = 0\n",
    "\n",
    "\n",
    "start_time = time()\n",
    "for i in t:\n",
    "    if f_a(i) < minU:\n",
    "        minU=f_a(i)\n",
    "        minT=i\n",
    "\n",
    "elapsed_time = time() - start_time\n",
    "elapsed_time = elapsed_time*1000\n",
    "print(\"Tiempo transcurrido: %f ms.\" % elapsed_time )\n",
    "print(\"x: %f\" % minT)\n",
    "print(\"fx: %f\" % minU)\n",
    "print(\"f'x: %f\" % dx(minT,0.0001))\n",
    "print(\"iteraciones: %d\" % len(t))\n"
   ]
  },
  {
   "cell_type": "code",
   "execution_count": null,
   "metadata": {},
   "outputs": [],
   "source": []
  }
 ],
 "metadata": {
  "kernelspec": {
   "display_name": "Python 3",
   "language": "python",
   "name": "python3"
  },
  "language_info": {
   "codemirror_mode": {
    "name": "ipython",
    "version": 3
   },
   "file_extension": ".py",
   "mimetype": "text/x-python",
   "name": "python",
   "nbconvert_exporter": "python",
   "pygments_lexer": "ipython3",
   "version": "3.7.4"
  }
 },
 "nbformat": 4,
 "nbformat_minor": 4
}
