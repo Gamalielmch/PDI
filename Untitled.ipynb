{
 "cells": [
  {
   "cell_type": "code",
   "execution_count": 4,
   "metadata": {},
   "outputs": [],
   "source": [
    "import numpy as np\n",
    "from matplotlib import pyplot as plt\n",
    "from time import time"
   ]
  },
  {
   "cell_type": "code",
   "execution_count": 5,
   "metadata": {},
   "outputs": [],
   "source": [
    "f_a =lambda t:((204165.5)/(330-2*float(t)))+(10400/(float(t)-20))\n",
    "dx = lambda x, delta: (f_a(x+delta)-f_a(x))/delta"
   ]
  },
  {
   "cell_type": "code",
   "execution_count": 6,
   "metadata": {},
   "outputs": [
    {
     "name": "stdout",
     "output_type": "stream",
     "text": [
      "Tiempo transcurrido: 1.001358 ms.\n",
      "x: 55.083478\n",
      "fx: 1225.165637\n",
      "f'x: -0.000000\n",
      "iteraciones: 4\n"
     ]
    }
   ],
   "source": [
    "z = lambda a1,b,dx1,dx2: 3*(f_a(a1)-f_a(b))/(b-a1)+dx1+dx2\n",
    "w = lambda a1,b,dx1,dx2,f: ((b-a1)/np.abs(b-a1))*np.sqrt((f**2)-(dx1*dx2))\n",
    "u = lambda a1,b,dx1,dx2, f, g: (dx2 + w1- f)/(dx2-dx1+(2*w1))\n",
    "\n",
    "\n",
    "delta = 0.0001\n",
    "epsilon = delta\n",
    "x1 = 90\n",
    "x2 =40\n",
    "\n",
    "start_time = time()\n",
    "for i in range(1,100):\n",
    "    dx1=dx(x1,delta)\n",
    "    dx2=dx(x2,delta)\n",
    "    z1 = z(x1,x2,dx1,dx2)\n",
    "    w1 = w(x1,x2,dx1,dx2,z1)\n",
    "    u1 = u(x1,x2,dx1,dx2,z1,w1)\n",
    "    if u1 <0:\n",
    "        npe = x2\n",
    "    elif u1 <=1:\n",
    "        npe = x2-u1*(x2-x1)\n",
    "    else:\n",
    "        npe = x1\n",
    "    if abs(dx(npe,delta))<epsilon:\n",
    "        break\n",
    "    if dx(npe,delta)*dx(x1,delta)<0:\n",
    "        x2 = npe\n",
    "    else:\n",
    "        x1=npe\n",
    "        \n",
    "elapsed_time = time() - start_time\n",
    "elapsed_time = elapsed_time*1000\n",
    "print(\"Tiempo transcurrido: %f ms.\" % elapsed_time )\n",
    "print(\"x: %f\" % npe)\n",
    "print(\"fx: %f\" % f_a(npe))\n",
    "print(\"f'x: %f\" % dx(npe,delta))\n",
    "print(\"iteraciones: %d\" % i)        "
   ]
  },
  {
   "cell_type": "code",
   "execution_count": null,
   "metadata": {},
   "outputs": [],
   "source": []
  }
 ],
 "metadata": {
  "kernelspec": {
   "display_name": "Python 3",
   "language": "python",
   "name": "python3"
  },
  "language_info": {
   "codemirror_mode": {
    "name": "ipython",
    "version": 3
   },
   "file_extension": ".py",
   "mimetype": "text/x-python",
   "name": "python",
   "nbconvert_exporter": "python",
   "pygments_lexer": "ipython3",
   "version": "3.7.4"
  }
 },
 "nbformat": 4,
 "nbformat_minor": 4
}
