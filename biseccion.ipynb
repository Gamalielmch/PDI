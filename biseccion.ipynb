{
 "cells": [
  {
   "cell_type": "code",
   "execution_count": 5,
   "metadata": {},
   "outputs": [],
   "source": [
    "from matplotlib import pyplot as plt\n",
    "import numpy as np \n",
    "from time import time"
   ]
  },
  {
   "cell_type": "code",
   "execution_count": 6,
   "metadata": {},
   "outputs": [
    {
     "name": "stdout",
     "output_type": "stream",
     "text": [
      "Tiempo transcurrido: 0.000000 ms.\n",
      "x: 55.083504\n",
      "fx: 1225.165637\n",
      "f'x: 0.000016\n",
      "iteraciones: 18\n"
     ]
    }
   ],
   "source": [
    "f_a =lambda t:((204165.5)/(330-2*float(t)))+(10400/(float(t)-20))\n",
    "dx = lambda x, delta: (f_a(x+delta)-f_a(x))/delta\n",
    "\n",
    "xl = 40\n",
    "xu = 90\n",
    "epsilon = 0.0001\n",
    "delta = epsilon\n",
    "start_time = time()\n",
    "for x in range(1,5000):\n",
    "    alpha = xl+(xu-xl)/2\n",
    "    fpx= dx(alpha,delta)\n",
    "    if  dx(xl,delta)*fpx<0:\n",
    "        xu = alpha\n",
    "    else:\n",
    "        xl = alpha\n",
    "\n",
    "    if abs(fpx)<epsilon:\n",
    "        break\n",
    "        \n",
    "        \n",
    "elapsed_time = time() - start_time\n",
    "elapsed_time = elapsed_time*1000\n",
    "print(\"Tiempo transcurrido: %f ms.\" % elapsed_time )\n",
    "print(\"x: %f\" % alpha)\n",
    "print(\"fx: %f\" % f_a(alpha))\n",
    "print(\"f'x: %f\" % dx(alpha,delta))\n",
    "print(\"iteraciones: %d\" % x)\n",
    "\n",
    "\n",
    "#tarea metodo de la secante \n",
    "#gradient-based methods"
   ]
  },
  {
   "cell_type": "code",
   "execution_count": null,
   "metadata": {},
   "outputs": [],
   "source": []
  },
  {
   "cell_type": "code",
   "execution_count": null,
   "metadata": {},
   "outputs": [],
   "source": []
  }
 ],
 "metadata": {
  "kernelspec": {
   "display_name": "Python 3",
   "language": "python",
   "name": "python3"
  },
  "language_info": {
   "codemirror_mode": {
    "name": "ipython",
    "version": 3
   },
   "file_extension": ".py",
   "mimetype": "text/x-python",
   "name": "python",
   "nbconvert_exporter": "python",
   "pygments_lexer": "ipython3",
   "version": "3.7.4"
  }
 },
 "nbformat": 4,
 "nbformat_minor": 4
}
